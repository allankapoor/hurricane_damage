{
 "cells": [
  {
   "cell_type": "markdown",
   "id": "a9542bd2",
   "metadata": {},
   "source": [
    "# Step 2a: Upload Directory to Google Cloud Bucket"
   ]
  },
  {
   "cell_type": "markdown",
   "id": "23df8d2b",
   "metadata": {},
   "source": [
    "The most efficient way to bulk upload files to a Google virtual machine (preserving the folder structure) is to first upload the directory to a GPC Bucket.\n",
    "\n",
    "This notebook contains code for connecting to Google Cloud and uploading the train/test/validation data to an existing Google Cloud Bucket. "
   ]
  },
  {
   "cell_type": "code",
   "execution_count": 3,
   "id": "18fef170",
   "metadata": {},
   "outputs": [],
   "source": [
    "import glob\n",
    "import os \n",
    "from google.cloud import storage"
   ]
  },
  {
   "cell_type": "code",
   "execution_count": 4,
   "id": "bedf3e38",
   "metadata": {},
   "outputs": [],
   "source": [
    "#authenticate google cloud\n",
    "os.environ['GOOGLE_APPLICATION_CREDENTIALS'] = 'keras-structuredamage-405787e7379d.json'\n",
    "storage_client = storage.Client()"
   ]
  },
  {
   "cell_type": "code",
   "execution_count": 20,
   "id": "0834da0c",
   "metadata": {},
   "outputs": [],
   "source": [
    "def upload_from_directory(directory_path: str, dest_bucket_name: str, dest_blob_name: str):\n",
    "    \n",
    "    '''uploads local directory to google cloud bucket'''\n",
    "    \n",
    "    rel_paths = glob.glob(directory_path + '/**', recursive=True)\n",
    "    bucket = storage_client.get_bucket(dest_bucket_name)\n",
    "    for local_file in rel_paths:\n",
    "        remote_path = f'{dest_blob_name}/{\"/\".join(local_file.split(os.sep)[1:])}'\n",
    "        if os.path.isfile(local_file):\n",
    "            blob = bucket.blob(remote_path)\n",
    "            blob.upload_from_filename(local_file)\n",
    "        #print(local_file)"
   ]
  },
  {
   "cell_type": "code",
   "execution_count": 21,
   "id": "c6000b87",
   "metadata": {},
   "outputs": [],
   "source": [
    "# set local directory, bucket, and destination folder in bucket\n",
    "direct_path = 'data'\n",
    "bucketname = 'keras_structure_damage'\n",
    "destblob = 'image_data_folder'"
   ]
  },
  {
   "cell_type": "code",
   "execution_count": null,
   "id": "05231414",
   "metadata": {},
   "outputs": [],
   "source": [
    "# call function to upload folder\n",
    "upload_from_directory(direct_path, bucketname, destblob)"
   ]
  },
  {
   "cell_type": "code",
   "execution_count": null,
   "id": "20b26a6f",
   "metadata": {},
   "outputs": [],
   "source": []
  }
 ],
 "metadata": {
  "kernelspec": {
   "display_name": "basic_tools",
   "language": "python",
   "name": "basic_tools"
  },
  "language_info": {
   "codemirror_mode": {
    "name": "ipython",
    "version": 3
   },
   "file_extension": ".py",
   "mimetype": "text/x-python",
   "name": "python",
   "nbconvert_exporter": "python",
   "pygments_lexer": "ipython3",
   "version": "3.8.12"
  }
 },
 "nbformat": 4,
 "nbformat_minor": 5
}
