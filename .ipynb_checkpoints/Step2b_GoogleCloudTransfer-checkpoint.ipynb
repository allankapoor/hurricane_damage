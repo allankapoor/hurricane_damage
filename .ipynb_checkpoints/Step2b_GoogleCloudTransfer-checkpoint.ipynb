{
 "cells": [
  {
   "cell_type": "markdown",
   "id": "19280832-419a-4b49-abc7-48f04129f53a",
   "metadata": {},
   "source": [
    "# Step 2b: Transfer Directory from GPC Bucket to Virtual Machine"
   ]
  },
  {
   "cell_type": "markdown",
   "id": "4309699f-8b0e-4eed-b045-13e3b2972b70",
   "metadata": {},
   "source": [
    "In order to access the training data on the virtual machine we need to first transfer it from the GPC bucket it has been uploaded to.\n",
    "\n",
    "The script below transfers a given folder from a given bucket to a given directory on the local (in this case virtual) machine. It will preserve the directory structure of the original folder."
   ]
  },
  {
   "cell_type": "code",
   "execution_count": 60,
   "id": "33823204-f570-4f24-8a66-eaae9a2bf952",
   "metadata": {},
   "outputs": [],
   "source": [
    "import os\n",
    "from google.cloud import storage\n",
    "from pathlib import Path"
   ]
  },
  {
   "cell_type": "code",
   "execution_count": 61,
   "id": "959bbdec-97a7-451b-a291-803a6dfeed0b",
   "metadata": {},
   "outputs": [],
   "source": [
    "#authenticate base on .json key\n",
    "os.environ['GOOGLE_APPLICATION_CREDENTIALS'] = 'keras-structuredamage-405787e7379d.json'\n",
    "storage_client = storage.Client()"
   ]
  },
  {
   "cell_type": "code",
   "execution_count": 62,
   "id": "08e9b60c-9a39-4495-94b4-fd84e3fadefa",
   "metadata": {},
   "outputs": [],
   "source": [
    "#create a bucket\n",
    "#bucket_name = 'data_bucket_99887766'\n",
    "#bucket = storage_client.bucket(bucket_name)\n",
    "#bucket.location = 'US'\n",
    "#bucket = storage_client.create_bucket(bucket)"
   ]
  },
  {
   "cell_type": "code",
   "execution_count": 63,
   "id": "f2c21eb1-d9a9-404b-b82a-b0cbbfc5a902",
   "metadata": {},
   "outputs": [
    {
     "name": "stdout",
     "output_type": "stream",
     "text": [
      "Transfering: image_data_folder/test/damage\n",
      "Transfering: image_data_folder/test/no_damage\n",
      "Transfering: image_data_folder/test_another/damage\n",
      "Transfering: image_data_folder/test_another/no_damage\n",
      "Transfering: image_data_folder/train_another/damage\n",
      "Transfering: image_data_folder/train_another/no_damage\n",
      "Transfering: image_data_folder/validation_another/damage\n",
      "Transfering: image_data_folder/validation_another/no_damage\n",
      "TRANSFER COMPLETE\n"
     ]
    }
   ],
   "source": [
    "#set bucket, folder to transfer, and destination folder (on virtual machine)\n",
    "bucket_name = 'keras_structure_damage'\n",
    "prefix = 'image_data_folder/'\n",
    "dl_dir = 'home/jupyter/Data/'\n",
    "\n",
    "#get bucket\n",
    "bucket = storage_client.get_bucket(bucket_name)\n",
    "\n",
    "#get list of files\n",
    "blobs = bucket.list_blobs(prefix=prefix)  \n",
    "\n",
    "#loop through all files, transfer to correspdoning location\n",
    "print_dir = []\n",
    "for blob in blobs:\n",
    "        \n",
    "    #skip directories\n",
    "    if blob.name.endswith(\"/\"):\n",
    "        continue\n",
    "\n",
    "    #get filepath components\n",
    "    file_split = blob.name.split(\"/\")\n",
    "    #create directory url\n",
    "    directory = \"/\".join(file_split[0:-1])\n",
    "    #create directory (if it doesn't exist already)\n",
    "    Path(directory).mkdir(parents=True, exist_ok=True)\n",
    "    #transfer file\n",
    "    blob.download_to_filename(blob.name)\n",
    "\n",
    "    #print status\n",
    "    current_dir = file_split[:3]\n",
    "    if current_dir != print_dir:\n",
    "        print_dir = current_dir\n",
    "        print(f'Transfering: {\"/\".join(print_dir)}')\n",
    "        \n",
    "print('TRANSFER COMPLETE')"
   ]
  }
 ],
 "metadata": {
  "environment": {
   "kernel": "python3",
   "name": "tf2-gpu.2-6.m87",
   "type": "gcloud",
   "uri": "gcr.io/deeplearning-platform-release/tf2-gpu.2-6:m87"
  },
  "kernelspec": {
   "display_name": "Python 3 (ipykernel)",
   "language": "python",
   "name": "python3"
  },
  "language_info": {
   "codemirror_mode": {
    "name": "ipython",
    "version": 3
   },
   "file_extension": ".py",
   "mimetype": "text/x-python",
   "name": "python",
   "nbconvert_exporter": "python",
   "pygments_lexer": "ipython3",
   "version": "3.8.12"
  }
 },
 "nbformat": 4,
 "nbformat_minor": 5
}
