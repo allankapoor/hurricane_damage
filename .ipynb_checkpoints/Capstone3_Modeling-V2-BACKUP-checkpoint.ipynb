{
 "cells": [
  {
   "cell_type": "markdown",
   "id": "518c1401",
   "metadata": {},
   "source": [
    "# Step 3: Modeling\n",
    "\n",
    "In this notebook I train a series of convolutional neural networks and evaluate their performance on validation data:\n",
    " 1) Baseline model with 3 convolution layers and 3 dense layers\n",
    " 2) Baseline model with image augmentation added to pipeline\n",
    " 3) Model 2 but with max pooling and drop out layers added\n",
    " 4) Transfer learning model leveraging Resnet architecture and weights\n",
    " \n",
    "Modeling decisions are explained in annotations throughout the notebook. All models are evaluated based on validation accuracy. Training is for 50 epochs with early stopping if the model does not improve after 10 epochs. The weights for the best performing epoch are then saved."
   ]
  },
  {
   "cell_type": "code",
   "execution_count": 19,
   "id": "b0aa7179",
   "metadata": {},
   "outputs": [],
   "source": [
    "#imports\n",
    "import pandas as pd\n",
    "import numpy as np\n",
    "import matplotlib.pyplot as plt\n",
    "import seaborn as sns\n",
    "import os\n",
    "import tensorflow as tf\n",
    "\n",
    "from tensorflow.keras.models import Sequential\n",
    "from tensorflow.keras.preprocessing.image import ImageDataGenerator\n",
    "from tensorflow.keras.preprocessing import image_dataset_from_directory\n",
    "from tensorflow.keras.layers.experimental.preprocessing import Rescaling\n",
    "from tensorflow.keras.layers import Dense, Conv2D, Flatten, MaxPooling2D, BatchNormalization, Activation, Dropout, Concatenate\n",
    "from tensorflow.keras import Model, Input\n",
    "from tensorflow.keras.callbacks import ModelCheckpoint, EarlyStopping\n",
    "from tensorflow.keras.applications.resnet50 import ResNet50"
   ]
  },
  {
   "cell_type": "code",
   "execution_count": 20,
   "id": "56f5934f",
   "metadata": {},
   "outputs": [],
   "source": [
    "# paths\n",
    "DIR = ('/Users/allankapoor/Documents/Springboard/structure_damage/')\n",
    "train_path = os.path.join(DIR, 'data', 'train_another')\n",
    "val_path = os.path.join(DIR, 'data', 'validation_another')\n",
    "test_path = os.path.join(DIR, 'data', 'test')"
   ]
  },
  {
   "cell_type": "markdown",
   "id": "2e2bc612",
   "metadata": {},
   "source": [
    "## Load Training/Validation/Test Data\n",
    "\n",
    "### Simple Loading\n",
    "First I load the training and validation sets as-is with no image augmentation. I'll use this for the first baseline model."
   ]
  },
  {
   "cell_type": "code",
   "execution_count": 21,
   "id": "546323bb",
   "metadata": {},
   "outputs": [
    {
     "name": "stdout",
     "output_type": "stream",
     "text": [
      "Found 10000 files belonging to 2 classes.\n",
      "Found 2000 files belonging to 2 classes.\n"
     ]
    }
   ],
   "source": [
    "image_size = (128, 128)\n",
    "batch_size = 32\n",
    "\n",
    "train_ds = tf.keras.preprocessing.image_dataset_from_directory(\n",
    "    train_path,\n",
    "    seed=42,\n",
    "    image_size=image_size,\n",
    "    batch_size=batch_size,\n",
    ")\n",
    "val_ds = tf.keras.preprocessing.image_dataset_from_directory(\n",
    "    val_path,\n",
    "    seed=42,\n",
    "    image_size=image_size,\n",
    "    batch_size=batch_size,\n",
    ")"
   ]
  },
  {
   "cell_type": "markdown",
   "id": "74310e98",
   "metadata": {},
   "source": [
    "### Loading with Image Augmentation\n",
    "Below I leverage the keras ImageDataGenerator to add an image augmentation pipeline. AS the training dataset is rather small (10,000 images), this will create more variation in the training dataset to reduce model overfitting and improve performance.\n",
    "\n",
    "I limited image augmentation to a few types that are similar to the kinds of variation that might be caused by differences between instances of structures, as well as differences due to the how imagery aircraft fly.\n",
    "\n",
    "Note that we do not do any image augmentation for the validation data."
   ]
  },
  {
   "cell_type": "code",
   "execution_count": 57,
   "id": "d84cbb55",
   "metadata": {},
   "outputs": [
    {
     "name": "stdout",
     "output_type": "stream",
     "text": [
      "Found 10000 images belonging to 2 classes.\n",
      "Found 2000 images belonging to 2 classes.\n"
     ]
    }
   ],
   "source": [
    "image_size = (128, 128)\n",
    "batch_size = 100\n",
    "\n",
    "# TRAINING\n",
    "# specify training image transformations \n",
    "train_datagen = ImageDataGenerator(\n",
    "        rescale=1./255,\n",
    "        rotation_range=0.1,\n",
    "        zoom_range=0.1,\n",
    "        horizontal_flip=True)\n",
    "\n",
    "# keras generator for training data\n",
    "train_generator = train_datagen.flow_from_directory(\n",
    "        train_path,\n",
    "        target_size=image_size,\n",
    "        batch_size=batch_size,\n",
    "        class_mode='binary')\n",
    "\n",
    "\n",
    "# VALIDATION\n",
    "# specify validation image transformations (rescale only)\n",
    "val_datagen = ImageDataGenerator(rescale=1./255)\n",
    "\n",
    "# keras generator for validation data\n",
    "validation_generator = val_datagen.flow_from_directory(\n",
    "        val_path,\n",
    "        target_size=image_size,\n",
    "        batch_size=batch_size,\n",
    "        class_mode='binary')"
   ]
  },
  {
   "cell_type": "markdown",
   "id": "7b131efc",
   "metadata": {},
   "source": [
    "# Functions for evaluating model performance"
   ]
  },
  {
   "cell_type": "markdown",
   "id": "5a413ca9",
   "metadata": {},
   "source": [
    "As this is a binary classification problem with equal sized classes, I will use accuracy to evaluate the performance of the models. Below I define a function which plots the training and validation accuracy and loss over all epochs. This will enable me to inspect the training process visually. If training accuracy increases close to 1.0 but validation accuracy stays poor, I will know the model is overfitting. If validation accuracy "
   ]
  },
  {
   "cell_type": "code",
   "execution_count": 23,
   "id": "ed1e4cda",
   "metadata": {},
   "outputs": [],
   "source": [
    "def plot_nn_training(history):\n",
    "    \n",
    "    '''Given model training history, plots validation accuracy and loss'''\n",
    "    \n",
    "    # plot history for accuracy\n",
    "    plt.plot(history.history['accuracy'])\n",
    "    plt.plot(history.history['val_accuracy'])\n",
    "    plt.title('model accuracy')\n",
    "    plt.ylabel('accuracy')\n",
    "    plt.xlabel('epoch')\n",
    "    plt.legend(['train', 'val'], loc='upper left')\n",
    "    plt.show()\n",
    "    \n",
    "    # plot history for loss\n",
    "    plt.plot(history.history['loss'])\n",
    "    plt.plot(history.history['val_loss'])\n",
    "    plt.title('model loss')\n",
    "    plt.ylabel('loss')\n",
    "    plt.xlabel('epoch')\n",
    "    plt.legend(['train', 'val'], loc='upper left')\n",
    "    plt.show()"
   ]
  },
  {
   "cell_type": "markdown",
   "id": "484135e1",
   "metadata": {},
   "source": [
    "## Baseline Model - No Image Augmentation"
   ]
  },
  {
   "cell_type": "markdown",
   "id": "dca128b8",
   "metadata": {},
   "source": [
    "I start by training a simple baseline model using the sequential API.The model architecture includes 3 convolution layers (with batch normalization and ReLu activation), followed by 3 dense layers with ReLu activation, and then an ouput layer with Softmax activation. Training data is used as-is with no image augmentation. \n",
    "\n",
    "As expected, the model does not perform well on validation data. Training accuracy is reaching XX but validation accuracy is XX. This suggests that the model is overfitting the training data. It is also training quite slowly. I will address both of these issues in later models."
   ]
  },
  {
   "cell_type": "code",
   "execution_count": 24,
   "id": "c8b27275",
   "metadata": {},
   "outputs": [],
   "source": [
    "# create model\n",
    "model = Sequential()\n",
    "\n",
    "# scaling \n",
    "model.add(Rescaling(1.0 / 255))\n",
    "\n",
    "# convolution layers\n",
    "model.add(Conv2D(32, kernel_size=5, strides=2, padding=\"same\", input_shape=(128,128,3)))\n",
    "model.add(BatchNormalization())\n",
    "model.add(Activation(\"relu\"))\n",
    "\n",
    "model.add(Conv2D(64, kernel_size=3, padding=\"same\"))\n",
    "model.add(BatchNormalization())\n",
    "model.add(Activation(\"relu\"))\n",
    "\n",
    "model.add(Conv2D(64, kernel_size=3, padding=\"same\"))\n",
    "model.add(BatchNormalization())\n",
    "model.add(Activation(\"relu\"))\n",
    "\n",
    "# flatten\n",
    "model.add(Flatten())\n",
    "\n",
    "# dense layers\n",
    "model.add(Dense(512, activation='relu'))\n",
    "model.add(Dense(256, activation='relu'))\n",
    "model.add(Dense(128, activation='relu'))\n",
    "\n",
    "# output layer\n",
    "model.add(Dense(2, activation='softmax'))"
   ]
  },
  {
   "cell_type": "code",
   "execution_count": 25,
   "id": "b0cb4fb9",
   "metadata": {},
   "outputs": [],
   "source": [
    "# Compile the model\n",
    "model.compile(optimizer='adam', loss='sparse_categorical_crossentropy', metrics=[\"accuracy\"])\n",
    "\n",
    "# patient early stopping\n",
    "es = EarlyStopping(monitor='val_accuracy', mode='max', verbose=1, patience=10)\n",
    "\n",
    "# save best model\n",
    "mc = ModelCheckpoint('models/Model1/best_model.h5', monitor='val_accuracy', mode='max', verbose=1, save_best_only=True)\n"
   ]
  },
  {
   "cell_type": "code",
   "execution_count": 26,
   "id": "4412d416",
   "metadata": {},
   "outputs": [
    {
     "name": "stdout",
     "output_type": "stream",
     "text": [
      "Epoch 1/50\n",
      "WARNING:tensorflow:AutoGraph could not transform <function Model.make_train_function.<locals>.train_function at 0x16ae98700> and will run it as-is.\n",
      "Please report this to the TensorFlow team. When filing the bug, set the verbosity to 10 (on Linux, `export AUTOGRAPH_VERBOSITY=10`) and attach the full output.\n",
      "Cause: unsupported operand type(s) for -: 'NoneType' and 'int'\n",
      "To silence this warning, decorate the function with @tf.autograph.experimental.do_not_convert\n",
      "WARNING:tensorflow:AutoGraph could not transform <function Model.make_test_function.<locals>.test_function at 0x336ac9b80> and will run it as-is.\n",
      "Please report this to the TensorFlow team. When filing the bug, set the verbosity to 10 (on Linux, `export AUTOGRAPH_VERBOSITY=10`) and attach the full output.\n",
      "Cause: unsupported operand type(s) for -: 'NoneType' and 'int'\n",
      "To silence this warning, decorate the function with @tf.autograph.experimental.do_not_convert\n",
      "\n",
      "Epoch 00001: val_accuracy improved from -inf to 0.50450, saving model to models/Model1/best_model.h5\n",
      "Epoch 2/50\n",
      "\n",
      "Epoch 00002: val_accuracy improved from 0.50450 to 0.76150, saving model to models/Model1/best_model.h5\n",
      "Epoch 3/50\n",
      "\n",
      "Epoch 00003: val_accuracy improved from 0.76150 to 0.88850, saving model to models/Model1/best_model.h5\n",
      "Epoch 4/50\n",
      "\n",
      "Epoch 00004: val_accuracy improved from 0.88850 to 0.89600, saving model to models/Model1/best_model.h5\n",
      "Epoch 5/50\n",
      "\n",
      "Epoch 00005: val_accuracy did not improve from 0.89600\n",
      "Epoch 6/50\n",
      "\n",
      "Epoch 00006: val_accuracy did not improve from 0.89600\n",
      "Epoch 7/50\n",
      "\n",
      "Epoch 00007: val_accuracy did not improve from 0.89600\n",
      "Epoch 8/50\n",
      "\n",
      "Epoch 00008: val_accuracy improved from 0.89600 to 0.90750, saving model to models/Model1/best_model.h5\n",
      "Epoch 9/50\n",
      "\n",
      "Epoch 00009: val_accuracy did not improve from 0.90750\n",
      "Epoch 10/50\n",
      "\n",
      "Epoch 00010: val_accuracy improved from 0.90750 to 0.93650, saving model to models/Model1/best_model.h5\n",
      "Epoch 11/50\n",
      "\n",
      "Epoch 00011: val_accuracy did not improve from 0.93650\n",
      "Epoch 12/50\n",
      "\n",
      "Epoch 00012: val_accuracy did not improve from 0.93650\n",
      "Epoch 13/50\n",
      "\n",
      "Epoch 00013: val_accuracy did not improve from 0.93650\n",
      "Epoch 14/50\n",
      "\n",
      "Epoch 00014: val_accuracy did not improve from 0.93650\n",
      "Epoch 15/50\n",
      "\n",
      "Epoch 00015: val_accuracy did not improve from 0.93650\n",
      "Epoch 16/50\n",
      "\n",
      "Epoch 00016: val_accuracy did not improve from 0.93650\n",
      "Epoch 17/50\n",
      "\n",
      "Epoch 00017: val_accuracy did not improve from 0.93650\n",
      "Epoch 18/50\n",
      "\n",
      "Epoch 00018: val_accuracy did not improve from 0.93650\n",
      "Epoch 19/50\n",
      "\n",
      "Epoch 00019: val_accuracy did not improve from 0.93650\n",
      "Epoch 20/50\n",
      "\n",
      "Epoch 00020: val_accuracy did not improve from 0.93650\n",
      "Epoch 00020: early stopping\n"
     ]
    }
   ],
   "source": [
    "# train model\n",
    "results1 = model.fit(\n",
    "    train_ds,\n",
    "    epochs=50,\n",
    "    callbacks= [es, mc],\n",
    "    validation_data=val_ds,\n",
    "    verbose=4)"
   ]
  },
  {
   "cell_type": "markdown",
   "id": "aa0dcb9f",
   "metadata": {},
   "source": [
    "**Accuracy:** 0.94650"
   ]
  },
  {
   "cell_type": "code",
   "execution_count": 27,
   "id": "28647cb3",
   "metadata": {},
   "outputs": [
    {
     "data": {
      "image/png": "[encoded data removed]",
      "text/plain": [
       "<Figure size 432x288 with 1 Axes>"
      ]
     },
     "metadata": {
      "needs_background": "light"
     },
     "output_type": "display_data"
    },
    {
     "data": {
      "image/png": "[encoded data removed]",
      "text/plain": [
       "<Figure size 432x288 with 1 Axes>"
      ]
     },
     "metadata": {
      "needs_background": "light"
     },
     "output_type": "display_data"
    }
   ],
   "source": [
    "#plot performance by epoch \n",
    "plot_nn_training(results1)"
   ]
  },
  {
   "cell_type": "markdown",
   "id": "1358fbba",
   "metadata": {},
   "source": [
    "## Baseline Model - With Image Augmentation\n",
    "\n",
    "Perhaps the model performing poorly because it is overfitting to the relatively small training dataset (there are only 10,000 images). This can be addressed by image augmentation (see above for the image augmentation pipeline).\n",
    "\n",
    "Below I train the same baseline model, but use the image augmentation pipeline developed above to create variation in the training data as it is fed into the model each epoch"
   ]
  },
  {
   "cell_type": "code",
   "execution_count": 28,
   "id": "d8e54eb2",
   "metadata": {},
   "outputs": [],
   "source": [
    "# create model\n",
    "model_img = Sequential()\n",
    "\n",
    "# scaling \n",
    "#model_img.add(Rescaling(1.0 / 255))\n",
    "\n",
    "# convolution layers\n",
    "model_img.add(Conv2D(32, kernel_size=5, strides=2, padding=\"same\", input_shape=(128,128,3)))\n",
    "model_img.add(BatchNormalization())\n",
    "model_img.add(Activation(\"relu\"))\n",
    "\n",
    "model_img.add(Conv2D(64, kernel_size=3, padding=\"same\"))\n",
    "model_img.add(BatchNormalization())\n",
    "model_img.add(Activation(\"relu\"))\n",
    "\n",
    "model_img.add(Conv2D(64, kernel_size=3, padding=\"same\"))\n",
    "model_img.add(BatchNormalization())\n",
    "model_img.add(Activation(\"relu\"))\n",
    "\n",
    "# flatten\n",
    "model_img.add(Flatten())\n",
    "\n",
    "# dense layers\n",
    "model_img.add(Dense(512, activation='relu'))\n",
    "model_img.add(Dense(256, activation='relu'))\n",
    "model_img.add(Dense(128, activation='relu'))\n",
    "\n",
    "# output layer\n",
    "model_img.add(Dense(2, activation='softmax'))"
   ]
  },
  {
   "cell_type": "code",
   "execution_count": 29,
   "id": "9e7296da",
   "metadata": {},
   "outputs": [],
   "source": [
    "# Compile the model\n",
    "model_img.compile(optimizer='adam', loss='sparse_categorical_crossentropy', metrics=[\"accuracy\"])\n",
    "\n",
    "# patient early stopping\n",
    "es = EarlyStopping(monitor='val_accuracy', mode='max', verbose=1, patience=10)\n",
    "\n",
    "# save best model\n",
    "mc = ModelCheckpoint('models/Model1/best_model_img.h5', monitor='val_accuracy', mode='max', verbose=1, save_best_only=True)\n"
   ]
  },
  {
   "cell_type": "code",
   "execution_count": 30,
   "id": "9ee1bf8a",
   "metadata": {},
   "outputs": [
    {
     "name": "stdout",
     "output_type": "stream",
     "text": [
      "Epoch 1/50\n",
      "WARNING:tensorflow:AutoGraph could not transform <function Model.make_train_function.<locals>.train_function at 0x14843dd30> and will run it as-is.\n",
      "Please report this to the TensorFlow team. When filing the bug, set the verbosity to 10 (on Linux, `export AUTOGRAPH_VERBOSITY=10`) and attach the full output.\n",
      "Cause: unsupported operand type(s) for -: 'NoneType' and 'int'\n",
      "To silence this warning, decorate the function with @tf.autograph.experimental.do_not_convert\n",
      "WARNING:tensorflow:AutoGraph could not transform <function Model.make_test_function.<locals>.test_function at 0x14bd10550> and will run it as-is.\n",
      "Please report this to the TensorFlow team. When filing the bug, set the verbosity to 10 (on Linux, `export AUTOGRAPH_VERBOSITY=10`) and attach the full output.\n",
      "Cause: unsupported operand type(s) for -: 'NoneType' and 'int'\n",
      "To silence this warning, decorate the function with @tf.autograph.experimental.do_not_convert\n",
      "\n",
      "Epoch 00001: val_accuracy improved from -inf to 0.50000, saving model to models/Model1/best_model_img.h5\n",
      "Epoch 2/50\n",
      "\n",
      "Epoch 00002: val_accuracy did not improve from 0.50000\n",
      "Epoch 3/50\n",
      "\n",
      "Epoch 00003: val_accuracy did not improve from 0.50000\n",
      "Epoch 4/50\n",
      "\n",
      "Epoch 00004: val_accuracy improved from 0.50000 to 0.63900, saving model to models/Model1/best_model_img.h5\n",
      "Epoch 5/50\n",
      "\n",
      "Epoch 00005: val_accuracy did not improve from 0.63900\n",
      "Epoch 6/50\n",
      "\n",
      "Epoch 00006: val_accuracy improved from 0.63900 to 0.89650, saving model to models/Model1/best_model_img.h5\n",
      "Epoch 7/50\n",
      "\n",
      "Epoch 00007: val_accuracy did not improve from 0.89650\n",
      "Epoch 8/50\n",
      "\n",
      "Epoch 00008: val_accuracy did not improve from 0.89650\n",
      "Epoch 9/50\n",
      "\n",
      "Epoch 00009: val_accuracy did not improve from 0.89650\n",
      "Epoch 10/50\n",
      "\n",
      "Epoch 00010: val_accuracy improved from 0.89650 to 0.92600, saving model to models/Model1/best_model_img.h5\n",
      "Epoch 11/50\n",
      "\n",
      "Epoch 00011: val_accuracy did not improve from 0.92600\n",
      "Epoch 12/50\n",
      "\n",
      "Epoch 00012: val_accuracy did not improve from 0.92600\n",
      "Epoch 13/50\n",
      "\n",
      "Epoch 00013: val_accuracy improved from 0.92600 to 0.94400, saving model to models/Model1/best_model_img.h5\n",
      "Epoch 14/50\n",
      "\n",
      "Epoch 00014: val_accuracy did not improve from 0.94400\n",
      "Epoch 15/50\n",
      "\n",
      "Epoch 00015: val_accuracy did not improve from 0.94400\n",
      "Epoch 16/50\n",
      "\n",
      "Epoch 00016: val_accuracy did not improve from 0.94400\n",
      "Epoch 17/50\n",
      "\n",
      "Epoch 00017: val_accuracy did not improve from 0.94400\n",
      "Epoch 18/50\n",
      "\n",
      "Epoch 00018: val_accuracy did not improve from 0.94400\n",
      "Epoch 19/50\n",
      "\n",
      "Epoch 00019: val_accuracy did not improve from 0.94400\n",
      "Epoch 20/50\n",
      "\n",
      "Epoch 00020: val_accuracy did not improve from 0.94400\n",
      "Epoch 21/50\n",
      "\n",
      "Epoch 00021: val_accuracy did not improve from 0.94400\n",
      "Epoch 22/50\n",
      "\n",
      "Epoch 00022: val_accuracy did not improve from 0.94400\n",
      "Epoch 23/50\n",
      "\n",
      "Epoch 00023: val_accuracy did not improve from 0.94400\n",
      "Epoch 00023: early stopping\n"
     ]
    }
   ],
   "source": [
    "# train model\n",
    "results_img = model_img.fit(\n",
    "    train_generator,\n",
    "    steps_per_epoch=100, # num_samples//batch_size\n",
    "    epochs=50,\n",
    "    callbacks= [es, mc],\n",
    "    validation_data=validation_generator,\n",
    "    validation_steps=20, # num_samples//batch_size\n",
    "    verbose=4) "
   ]
  },
  {
   "cell_type": "markdown",
   "id": "b0c9328a",
   "metadata": {},
   "source": [
    "**Accuracy:** 0.95650"
   ]
  },
  {
   "cell_type": "markdown",
   "id": "975d50bd",
   "metadata": {},
   "source": [
    "## Improving Model Performance"
   ]
  },
  {
   "cell_type": "markdown",
   "id": "0bfa3c0a",
   "metadata": {},
   "source": [
    "### Adding Max Pooling and Drop Layers"
   ]
  },
  {
   "cell_type": "code",
   "execution_count": 31,
   "id": "28402af5",
   "metadata": {},
   "outputs": [],
   "source": [
    "def generate_model2(input_shape, num_classes):\n",
    "    \n",
    "    '''CNN model architecture with max pooling + dropout layers'''\n",
    "    \n",
    "    inputs = Input(shape=input_shape)\n",
    "    \n",
    "    #x = Rescaling(1.0 / 255)\n",
    "    \n",
    "    # convolution (with max pooling)\n",
    "    x = Conv2D(32, kernel_size=5, strides=2, padding=\"same\")(inputs)\n",
    "    x = MaxPooling2D(pool_size=(2, 2), strides=2, padding='valid', data_format=None)(x) \n",
    "    x = BatchNormalization()(x)\n",
    "    x = Activation(\"relu\")(x)\n",
    "\n",
    "    x = Conv2D(64, kernel_size=3, strides=2, padding=\"same\")(x)\n",
    "    x = MaxPooling2D(pool_size=(2, 2), strides=2, padding='valid', data_format=None)(x)\n",
    "    x = BatchNormalization()(x)\n",
    "    x = Activation(\"relu\")(x)\n",
    "    \n",
    "    x = Conv2D(64, kernel_size=3, strides=2, padding=\"same\")(x)\n",
    "    x = MaxPooling2D(pool_size=(2, 2), strides=2, padding='valid', data_format=None)(x)\n",
    "    x = BatchNormalization()(x)\n",
    "    x = Activation(\"relu\")(x)\n",
    "    \n",
    "    #flatten\n",
    "    x = Flatten()(x)\n",
    "    \n",
    "    #dense layers (with dropout to avoid overfitting)\n",
    "    x = Dense(1024, activation='relu')(x)\n",
    "    x = Dropout(0.3)(x)\n",
    "    x = Dense(512, activation='relu')(x)\n",
    "    x = Dropout(0.2)(x)\n",
    "    x = Dense(256, activation='relu')(x)\n",
    "    x = Dropout(0.1)(x)\n",
    "    \n",
    "    # output layer\n",
    "    output = Dense(2, activation='softmax')(x)\n",
    "    \n",
    "    mod = Model(inputs=inputs, outputs=output)\n",
    "    \n",
    "    return mod"
   ]
  },
  {
   "cell_type": "code",
   "execution_count": 32,
   "id": "ecc998e2",
   "metadata": {},
   "outputs": [],
   "source": [
    "epochs = 100\n",
    "\n",
    "# patient early stopping\n",
    "es = EarlyStopping(monitor='val_accuracy', mode='max', verbose=1, patience=10)\n",
    "\n",
    "# save best model\n",
    "mc = ModelCheckpoint('models/Model2/best_model.h5', monitor='val_accuracy', mode='max', verbose=1, save_best_only=True)\n",
    "\n",
    "# Instantiate model\n",
    "model2 = generate_model2(input_shape=(128,128,3), num_classes=2)\n",
    "\n",
    "# Compile model\n",
    "model2.compile(optimizer='adam', loss='sparse_categorical_crossentropy', metrics=[\"accuracy\"])"
   ]
  },
  {
   "cell_type": "code",
   "execution_count": 33,
   "id": "91a1dd90",
   "metadata": {},
   "outputs": [
    {
     "name": "stdout",
     "output_type": "stream",
     "text": [
      "Epoch 1/50\n",
      "WARNING:tensorflow:AutoGraph could not transform <function Model.make_train_function.<locals>.train_function at 0x14838fdc0> and will run it as-is.\n",
      "Please report this to the TensorFlow team. When filing the bug, set the verbosity to 10 (on Linux, `export AUTOGRAPH_VERBOSITY=10`) and attach the full output.\n",
      "Cause: unsupported operand type(s) for -: 'NoneType' and 'int'\n",
      "To silence this warning, decorate the function with @tf.autograph.experimental.do_not_convert\n",
      "WARNING:tensorflow:AutoGraph could not transform <function Model.make_test_function.<locals>.test_function at 0x16c3a6af0> and will run it as-is.\n",
      "Please report this to the TensorFlow team. When filing the bug, set the verbosity to 10 (on Linux, `export AUTOGRAPH_VERBOSITY=10`) and attach the full output.\n",
      "Cause: unsupported operand type(s) for -: 'NoneType' and 'int'\n",
      "To silence this warning, decorate the function with @tf.autograph.experimental.do_not_convert\n",
      "\n",
      "Epoch 00001: val_accuracy improved from -inf to 0.50000, saving model to models/Model2/best_model.h5\n",
      "Epoch 2/50\n",
      "\n",
      "Epoch 00002: val_accuracy did not improve from 0.50000\n",
      "Epoch 3/50\n",
      "\n",
      "Epoch 00003: val_accuracy did not improve from 0.50000\n",
      "Epoch 4/50\n",
      "\n",
      "Epoch 00004: val_accuracy improved from 0.50000 to 0.50050, saving model to models/Model2/best_model.h5\n",
      "Epoch 5/50\n",
      "\n",
      "Epoch 00005: val_accuracy improved from 0.50050 to 0.73950, saving model to models/Model2/best_model.h5\n",
      "Epoch 6/50\n",
      "\n",
      "Epoch 00006: val_accuracy did not improve from 0.73950\n",
      "Epoch 7/50\n",
      "\n",
      "Epoch 00007: val_accuracy improved from 0.73950 to 0.88800, saving model to models/Model2/best_model.h5\n",
      "Epoch 8/50\n",
      "\n",
      "Epoch 00008: val_accuracy did not improve from 0.88800\n",
      "Epoch 9/50\n",
      "\n",
      "Epoch 00009: val_accuracy did not improve from 0.88800\n",
      "Epoch 10/50\n",
      "\n",
      "Epoch 00010: val_accuracy did not improve from 0.88800\n",
      "Epoch 11/50\n",
      "\n",
      "Epoch 00011: val_accuracy did not improve from 0.88800\n",
      "Epoch 12/50\n",
      "\n",
      "Epoch 00012: val_accuracy did not improve from 0.88800\n",
      "Epoch 13/50\n",
      "\n",
      "Epoch 00013: val_accuracy did not improve from 0.88800\n",
      "Epoch 14/50\n",
      "\n",
      "Epoch 00014: val_accuracy did not improve from 0.88800\n",
      "Epoch 15/50\n",
      "\n",
      "Epoch 00015: val_accuracy did not improve from 0.88800\n",
      "Epoch 16/50\n",
      "\n",
      "Epoch 00016: val_accuracy improved from 0.88800 to 0.94300, saving model to models/Model2/best_model.h5\n",
      "Epoch 17/50\n",
      "\n",
      "Epoch 00017: val_accuracy did not improve from 0.94300\n",
      "Epoch 18/50\n",
      "\n",
      "Epoch 00018: val_accuracy did not improve from 0.94300\n",
      "Epoch 19/50\n",
      "\n",
      "Epoch 00019: val_accuracy did not improve from 0.94300\n",
      "Epoch 20/50\n",
      "\n",
      "Epoch 00020: val_accuracy improved from 0.94300 to 0.95000, saving model to models/Model2/best_model.h5\n",
      "Epoch 21/50\n",
      "\n",
      "Epoch 00021: val_accuracy did not improve from 0.95000\n",
      "Epoch 22/50\n",
      "\n",
      "Epoch 00022: val_accuracy did not improve from 0.95000\n",
      "Epoch 23/50\n",
      "\n",
      "Epoch 00023: val_accuracy did not improve from 0.95000\n",
      "Epoch 24/50\n",
      "\n",
      "Epoch 00024: val_accuracy did not improve from 0.95000\n",
      "Epoch 25/50\n",
      "\n",
      "Epoch 00025: val_accuracy did not improve from 0.95000\n",
      "Epoch 26/50\n",
      "\n",
      "Epoch 00026: val_accuracy did not improve from 0.95000\n",
      "Epoch 27/50\n",
      "\n",
      "Epoch 00027: val_accuracy did not improve from 0.95000\n",
      "Epoch 28/50\n",
      "\n",
      "Epoch 00028: val_accuracy did not improve from 0.95000\n",
      "Epoch 29/50\n",
      "\n",
      "Epoch 00029: val_accuracy did not improve from 0.95000\n",
      "Epoch 30/50\n",
      "\n",
      "Epoch 00030: val_accuracy did not improve from 0.95000\n",
      "Epoch 00030: early stopping\n"
     ]
    }
   ],
   "source": [
    "# train model\n",
    "results2 = model2.fit(\n",
    "    train_generator,\n",
    "    steps_per_epoch=100, # num_samples//batch_size\n",
    "    epochs=50,\n",
    "    callbacks= [es, mc],\n",
    "    validation_data=validation_generator,\n",
    "    validation_steps=20, # num_samples//batch_size\n",
    "    verbose=4) "
   ]
  },
  {
   "cell_type": "markdown",
   "id": "f81362a4",
   "metadata": {},
   "source": [
    "**Accuracy:** 0.96750"
   ]
  },
  {
   "cell_type": "code",
   "execution_count": 34,
   "id": "1ca4629e",
   "metadata": {},
   "outputs": [
    {
     "data": {
      "image/png": "[encoded data removed]",
      "text/plain": [
       "<Figure size 432x288 with 1 Axes>"
      ]
     },
     "metadata": {
      "needs_background": "light"
     },
     "output_type": "display_data"
    },
    {
     "data": {
      "image/png": "[encoded data removed]",
      "text/plain": [
       "<Figure size 432x288 with 1 Axes>"
      ]
     },
     "metadata": {
      "needs_background": "light"
     },
     "output_type": "display_data"
    }
   ],
   "source": [
    "plot_nn_training(results2)"
   ]
  },
  {
   "cell_type": "code",
   "execution_count": 35,
   "id": "3d7808b9",
   "metadata": {},
   "outputs": [],
   "source": [
    "# model with less dense nodes - will train faster, but will it be as accurate?\n",
    "def generate_model3(input_shape, num_classes):\n",
    "    \n",
    "    '''CNN model architecture with max pooling + dropout layers - less dense nodes'''\n",
    "    \n",
    "    inputs = Input(shape=input_shape)\n",
    "    \n",
    "    #x = Rescaling(1.0 / 255)\n",
    "    \n",
    "    # convolution (with max pooling)\n",
    "    x = Conv2D(32, kernel_size=5, strides=2, padding=\"same\")(inputs)\n",
    "    x = MaxPooling2D(pool_size=(2, 2), strides=2, padding='valid', data_format=None)(x) \n",
    "    x = BatchNormalization()(x) # why?\n",
    "    x = Activation(\"relu\")(x)\n",
    "\n",
    "    x = Conv2D(64, kernel_size=3, strides=2, padding=\"same\")(x)\n",
    "    x = MaxPooling2D(pool_size=(2, 2), strides=2, padding='valid', data_format=None)(x)\n",
    "    x = BatchNormalization()(x)\n",
    "    x = Activation(\"relu\")(x)\n",
    "    \n",
    "    x = Conv2D(64, kernel_size=3, strides=2, padding=\"same\")(x)\n",
    "    x = MaxPooling2D(pool_size=(2, 2), strides=2, padding='valid', data_format=None)(x)\n",
    "    x = BatchNormalization()(x)\n",
    "    x = Activation(\"relu\")(x)\n",
    "    \n",
    "    #flatten\n",
    "    x = Flatten()(x)\n",
    "    \n",
    "    #dense layers (with dropout to avoid overfitting)\n",
    "    x = Dense(512, activation='relu')(x)\n",
    "    x = Dropout(0.3)(x)\n",
    "    x = Dense(256, activation='relu')(x)\n",
    "    x = Dropout(0.2)(x)\n",
    "    x = Dense(128, activation='relu')(x)\n",
    "    x = Dropout(0.1)(x)\n",
    "    \n",
    "    # output layer\n",
    "    output = Dense(2, activation='softmax')(x)\n",
    "    \n",
    "    mod = Model(inputs=inputs, outputs=output)\n",
    "    \n",
    "    return mod"
   ]
  },
  {
   "cell_type": "code",
   "execution_count": 36,
   "id": "d7c8a3be",
   "metadata": {},
   "outputs": [],
   "source": [
    "epochs = 100\n",
    "\n",
    "# patient early stopping\n",
    "es = EarlyStopping(monitor='val_accuracy', mode='max', verbose=1, patience=10)\n",
    "\n",
    "# save best model\n",
    "mc = ModelCheckpoint('models/Model3/best_model.h5', monitor='val_accuracy', mode='max', verbose=1, save_best_only=True)\n",
    "\n",
    "# Instantiate model\n",
    "model3 = generate_model3(input_shape=(128,128,3), num_classes=2)\n",
    "\n",
    "# Compile model\n",
    "model3.compile(optimizer='adam', loss='sparse_categorical_crossentropy', metrics=[\"accuracy\"])"
   ]
  },
  {
   "cell_type": "code",
   "execution_count": 37,
   "id": "87112a03",
   "metadata": {},
   "outputs": [
    {
     "name": "stdout",
     "output_type": "stream",
     "text": [
      "Epoch 1/50\n",
      "WARNING:tensorflow:AutoGraph could not transform <function Model.make_train_function.<locals>.train_function at 0x148968a60> and will run it as-is.\n",
      "Please report this to the TensorFlow team. When filing the bug, set the verbosity to 10 (on Linux, `export AUTOGRAPH_VERBOSITY=10`) and attach the full output.\n",
      "Cause: unsupported operand type(s) for -: 'NoneType' and 'int'\n",
      "To silence this warning, decorate the function with @tf.autograph.experimental.do_not_convert\n",
      "WARNING:tensorflow:AutoGraph could not transform <function Model.make_test_function.<locals>.test_function at 0x14dc943a0> and will run it as-is.\n",
      "Please report this to the TensorFlow team. When filing the bug, set the verbosity to 10 (on Linux, `export AUTOGRAPH_VERBOSITY=10`) and attach the full output.\n",
      "Cause: unsupported operand type(s) for -: 'NoneType' and 'int'\n",
      "To silence this warning, decorate the function with @tf.autograph.experimental.do_not_convert\n",
      "\n",
      "Epoch 00001: val_accuracy improved from -inf to 0.50000, saving model to models/Model3/best_model.h5\n",
      "Epoch 2/50\n",
      "\n",
      "Epoch 00002: val_accuracy did not improve from 0.50000\n",
      "Epoch 3/50\n",
      "\n",
      "Epoch 00003: val_accuracy did not improve from 0.50000\n",
      "Epoch 4/50\n",
      "\n",
      "Epoch 00004: val_accuracy improved from 0.50000 to 0.51700, saving model to models/Model3/best_model.h5\n",
      "Epoch 5/50\n",
      "\n",
      "Epoch 00005: val_accuracy improved from 0.51700 to 0.94200, saving model to models/Model3/best_model.h5\n",
      "Epoch 6/50\n",
      "\n",
      "Epoch 00006: val_accuracy did not improve from 0.94200\n",
      "Epoch 7/50\n",
      "\n",
      "Epoch 00007: val_accuracy did not improve from 0.94200\n",
      "Epoch 8/50\n",
      "\n",
      "Epoch 00008: val_accuracy did not improve from 0.94200\n",
      "Epoch 9/50\n",
      "\n",
      "Epoch 00009: val_accuracy did not improve from 0.94200\n",
      "Epoch 10/50\n",
      "\n",
      "Epoch 00010: val_accuracy did not improve from 0.94200\n",
      "Epoch 11/50\n",
      "\n",
      "Epoch 00011: val_accuracy did not improve from 0.94200\n",
      "Epoch 12/50\n",
      "\n",
      "Epoch 00012: val_accuracy did not improve from 0.94200\n",
      "Epoch 13/50\n",
      "\n",
      "Epoch 00013: val_accuracy did not improve from 0.94200\n",
      "Epoch 14/50\n",
      "\n",
      "Epoch 00014: val_accuracy did not improve from 0.94200\n",
      "Epoch 15/50\n",
      "\n",
      "Epoch 00015: val_accuracy did not improve from 0.94200\n",
      "Epoch 00015: early stopping\n"
     ]
    }
   ],
   "source": [
    "# train model\n",
    "results3 = model3.fit(\n",
    "    train_generator,\n",
    "    steps_per_epoch=100, # num_samples//batch_size\n",
    "    epochs=50,\n",
    "    callbacks= [es, mc],\n",
    "    validation_data=validation_generator,\n",
    "    verbose=4,\n",
    "    validation_steps=20) # num_samples//batch_size"
   ]
  },
  {
   "cell_type": "markdown",
   "id": "e600fdbe",
   "metadata": {},
   "source": [
    "**Accuracy:** 0.95350"
   ]
  },
  {
   "cell_type": "code",
   "execution_count": 38,
   "id": "f2211027",
   "metadata": {},
   "outputs": [
    {
     "data": {
      "image/png": "[encoded data removed]",
      "text/plain": [
       "<Figure size 432x288 with 1 Axes>"
      ]
     },
     "metadata": {
      "needs_background": "light"
     },
     "output_type": "display_data"
    },
    {
     "data": {
      "image/png": "[encoded data removed]",
      "text/plain": [
       "<Figure size 432x288 with 1 Axes>"
      ]
     },
     "metadata": {
      "needs_background": "light"
     },
     "output_type": "display_data"
    }
   ],
   "source": [
    "plot_nn_training(results3)"
   ]
  },
  {
   "cell_type": "code",
   "execution_count": 39,
   "id": "6eef176c",
   "metadata": {},
   "outputs": [],
   "source": [
    "def generate_model4(input_shape, num_classes):\n",
    "    \n",
    "    '''CNN model architecture with max pooling + dropout layers' - larger convo kernel'''\n",
    "    \n",
    "    inputs = Input(shape=input_shape)\n",
    "    \n",
    "    # convolution (with max pooling)\n",
    "    x = Conv2D(32, kernel_size=10, strides=2, padding=\"same\")(inputs)\n",
    "    x = MaxPooling2D(pool_size=(2, 2), strides=2, padding='valid', data_format=None)(x) \n",
    "    x = BatchNormalization()(x)\n",
    "    x = Activation(\"relu\")(x)\n",
    "\n",
    "    x = Conv2D(64, kernel_size=3, strides=2, padding=\"same\")(x)\n",
    "    x = MaxPooling2D(pool_size=(2, 2), strides=2, padding='valid', data_format=None)(x)\n",
    "    x = BatchNormalization()(x)\n",
    "    x = Activation(\"relu\")(x)\n",
    "    \n",
    "    x = Conv2D(64, kernel_size=3, strides=2, padding=\"same\")(x)\n",
    "    x = MaxPooling2D(pool_size=(2, 2), strides=2, padding='valid', data_format=None)(x)\n",
    "    x = BatchNormalization()(x)\n",
    "    x = Activation(\"relu\")(x)\n",
    "    \n",
    "    #flatten\n",
    "    x = Flatten()(x)\n",
    "    \n",
    "    #dense layers (with dropout to avoid overfitting)\n",
    "    x = Dense(1024, activation='relu')(x)\n",
    "    x = Dropout(0.3)(x)\n",
    "    x = Dense(512, activation='relu')(x)\n",
    "    x = Dropout(0.2)(x)\n",
    "    x = Dense(256, activation='relu')(x)\n",
    "    x = Dropout(0.1)(x)\n",
    "    \n",
    "    # output layer\n",
    "    output = Dense(2, activation='softmax')(x)\n",
    "    \n",
    "    mod = Model(inputs=inputs, outputs=output)\n",
    "    \n",
    "    return mod"
   ]
  },
  {
   "cell_type": "code",
   "execution_count": 40,
   "id": "1967145f",
   "metadata": {},
   "outputs": [],
   "source": [
    "epochs = 100\n",
    "\n",
    "# patient early stopping\n",
    "es = EarlyStopping(monitor='val_accuracy', mode='max', verbose=1, patience=10)\n",
    "\n",
    "# save best model\n",
    "mc = ModelCheckpoint('models/Model4/best_model.h5', monitor='val_accuracy', mode='max', verbose=1, save_best_only=True)\n",
    "\n",
    "# Instantiate model\n",
    "model4 = generate_model4(input_shape=(128,128,3), num_classes=2)\n",
    "\n",
    "# Compile model\n",
    "model4.compile(optimizer='adam', loss='sparse_categorical_crossentropy', metrics=[\"accuracy\"])"
   ]
  },
  {
   "cell_type": "code",
   "execution_count": 41,
   "id": "63c1756c",
   "metadata": {},
   "outputs": [
    {
     "name": "stdout",
     "output_type": "stream",
     "text": [
      "Epoch 1/50\n",
      "WARNING:tensorflow:AutoGraph could not transform <function Model.make_train_function.<locals>.train_function at 0x17fb67790> and will run it as-is.\n",
      "Please report this to the TensorFlow team. When filing the bug, set the verbosity to 10 (on Linux, `export AUTOGRAPH_VERBOSITY=10`) and attach the full output.\n",
      "Cause: unsupported operand type(s) for -: 'NoneType' and 'int'\n",
      "To silence this warning, decorate the function with @tf.autograph.experimental.do_not_convert\n",
      "WARNING:tensorflow:AutoGraph could not transform <function Model.make_test_function.<locals>.test_function at 0x2bafe53a0> and will run it as-is.\n",
      "Please report this to the TensorFlow team. When filing the bug, set the verbosity to 10 (on Linux, `export AUTOGRAPH_VERBOSITY=10`) and attach the full output.\n",
      "Cause: unsupported operand type(s) for -: 'NoneType' and 'int'\n",
      "To silence this warning, decorate the function with @tf.autograph.experimental.do_not_convert\n",
      "\n",
      "Epoch 00001: val_accuracy improved from -inf to 0.50000, saving model to models/Model4/best_model.h5\n",
      "Epoch 2/50\n",
      "\n",
      "Epoch 00002: val_accuracy did not improve from 0.50000\n",
      "Epoch 3/50\n",
      "\n",
      "Epoch 00003: val_accuracy did not improve from 0.50000\n",
      "Epoch 4/50\n",
      "\n",
      "Epoch 00004: val_accuracy improved from 0.50000 to 0.50150, saving model to models/Model4/best_model.h5\n",
      "Epoch 5/50\n",
      "\n",
      "Epoch 00005: val_accuracy did not improve from 0.50150\n",
      "Epoch 6/50\n",
      "\n",
      "Epoch 00006: val_accuracy improved from 0.50150 to 0.89550, saving model to models/Model4/best_model.h5\n",
      "Epoch 7/50\n",
      "\n",
      "Epoch 00007: val_accuracy did not improve from 0.89550\n",
      "Epoch 8/50\n",
      "\n",
      "Epoch 00008: val_accuracy did not improve from 0.89550\n",
      "Epoch 9/50\n",
      "\n",
      "Epoch 00009: val_accuracy did not improve from 0.89550\n",
      "Epoch 10/50\n",
      "\n",
      "Epoch 00010: val_accuracy did not improve from 0.89550\n",
      "Epoch 11/50\n",
      "\n",
      "Epoch 00011: val_accuracy did not improve from 0.89550\n",
      "Epoch 12/50\n",
      "\n",
      "Epoch 00012: val_accuracy improved from 0.89550 to 0.91500, saving model to models/Model4/best_model.h5\n",
      "Epoch 13/50\n",
      "\n",
      "Epoch 00013: val_accuracy did not improve from 0.91500\n",
      "Epoch 14/50\n",
      "\n",
      "Epoch 00014: val_accuracy did not improve from 0.91500\n",
      "Epoch 15/50\n",
      "\n",
      "Epoch 00015: val_accuracy did not improve from 0.91500\n",
      "Epoch 16/50\n",
      "\n",
      "Epoch 00016: val_accuracy did not improve from 0.91500\n",
      "Epoch 17/50\n",
      "\n",
      "Epoch 00017: val_accuracy did not improve from 0.91500\n",
      "Epoch 18/50\n",
      "\n",
      "Epoch 00018: val_accuracy improved from 0.91500 to 0.95750, saving model to models/Model4/best_model.h5\n",
      "Epoch 19/50\n",
      "\n",
      "Epoch 00019: val_accuracy did not improve from 0.95750\n",
      "Epoch 20/50\n",
      "\n",
      "Epoch 00020: val_accuracy did not improve from 0.95750\n",
      "Epoch 21/50\n",
      "\n",
      "Epoch 00021: val_accuracy did not improve from 0.95750\n",
      "Epoch 22/50\n",
      "\n",
      "Epoch 00022: val_accuracy did not improve from 0.95750\n",
      "Epoch 23/50\n",
      "\n",
      "Epoch 00023: val_accuracy did not improve from 0.95750\n",
      "Epoch 24/50\n",
      "\n",
      "Epoch 00024: val_accuracy did not improve from 0.95750\n",
      "Epoch 25/50\n",
      "\n",
      "Epoch 00025: val_accuracy did not improve from 0.95750\n",
      "Epoch 26/50\n",
      "\n",
      "Epoch 00026: val_accuracy did not improve from 0.95750\n",
      "Epoch 27/50\n",
      "\n",
      "Epoch 00027: val_accuracy did not improve from 0.95750\n",
      "Epoch 28/50\n",
      "\n",
      "Epoch 00028: val_accuracy did not improve from 0.95750\n",
      "Epoch 00028: early stopping\n"
     ]
    }
   ],
   "source": [
    "# train model\n",
    "results4 = model4.fit(\n",
    "    train_generator,\n",
    "    steps_per_epoch=100, # num_samples//batch_size\n",
    "    epochs=50,\n",
    "    callbacks= [es, mc],\n",
    "    validation_data=validation_generator,\n",
    "    verbose=4,\n",
    "    validation_steps=20) # num_samples//batch_size"
   ]
  },
  {
   "cell_type": "code",
   "execution_count": null,
   "id": "cd398bd8",
   "metadata": {},
   "outputs": [],
   "source": []
  },
  {
   "cell_type": "markdown",
   "id": "a5d0ded9",
   "metadata": {},
   "source": [
    "**Accuracy:** 0.9575"
   ]
  },
  {
   "cell_type": "code",
   "execution_count": 42,
   "id": "cd972c4d",
   "metadata": {},
   "outputs": [
    {
     "data": {
      "image/png": "[encoded data removed]",
      "text/plain": [
       "<Figure size 432x288 with 1 Axes>"
      ]
     },
     "metadata": {
      "needs_background": "light"
     },
     "output_type": "display_data"
    },
    {
     "data": {
      "image/png": "[encoded data removed]",
      "text/plain": [
       "<Figure size 432x288 with 1 Axes>"
      ]
     },
     "metadata": {
      "needs_background": "light"
     },
     "output_type": "display_data"
    }
   ],
   "source": [
    "plot_nn_training(results4)"
   ]
  },
  {
   "cell_type": "markdown",
   "id": "d7955d2d",
   "metadata": {},
   "source": [
    "## Transfer Learning"
   ]
  },
  {
   "cell_type": "code",
   "execution_count": 43,
   "id": "c9d3aa2f",
   "metadata": {},
   "outputs": [],
   "source": [
    "def generate_TL_model(input_shape, num_classes):\n",
    "    \n",
    "    '''TL model, Conv kernel=5 '''\n",
    "    \n",
    "    weights = 'imagenet'\n",
    "    inputs = Input(input_shape)\n",
    "\n",
    "    #what does include_top=False remove?\n",
    "    base_model = ResNet50(include_top=False, weights=weights, input_shape=(128, 128, 3))\n",
    "\n",
    "    #freezing the resnet layers\n",
    "    for layer in base_model.layers:\n",
    "        layer.trainable = False\n",
    "\n",
    "    #these convolution layers come before the resnet layers\n",
    "    x = Conv2D(32, (5, 5), strides=2, padding='same', activation='relu', input_shape=(128, 128, 3))(inputs)\n",
    "    x = MaxPooling2D(pool_size=(2, 2), strides=2, padding='valid', data_format=None)(x)\n",
    "\n",
    "    x = Conv2D(64, (3, 3), strides=2, padding='same', activation='relu')(x)\n",
    "    x = MaxPooling2D(pool_size=(2, 2), strides=2, padding='valid', data_format=None)(x)\n",
    "\n",
    "    x = Conv2D(64, (3, 3), strides=2, padding='same', activation='relu')(x)\n",
    "    x = MaxPooling2D(pool_size=(2, 2), strides=2, padding='valid', data_format=None)(x)\n",
    "\n",
    "    x = Flatten()(x)\n",
    "\n",
    "    base_resnet = base_model(inputs)\n",
    "    base_resnet = Flatten()(base_resnet)\n",
    "\n",
    "    concated_layers = Concatenate()([x, base_resnet])\n",
    "\n",
    "    # dense layers come after the resnet layers\n",
    "    # dropout to reduce overfit\n",
    "    concated_layers = Dense(1024, activation='relu')(concated_layers)\n",
    "    concated_layers = Dropout(0.3)(concated_layers)\n",
    "    concated_layers = Dense(512, activation='relu')(concated_layers)\n",
    "    concated_layers = Dropout(0.2)(concated_layers)\n",
    "    concated_layers = Dense(256, activation='relu')(concated_layers)\n",
    "    concated_layers = Dropout(0.1)(concated_layers)\n",
    "    \n",
    "    # output layer\n",
    "    output = Dense(num_classes, activation='softmax')(concated_layers)\n",
    "\n",
    "    mod = Model(inputs=inputs, outputs=output)\n",
    "    \n",
    "    return mod"
   ]
  },
  {
   "cell_type": "code",
   "execution_count": 44,
   "id": "eb11092e",
   "metadata": {},
   "outputs": [],
   "source": [
    "epochs = 100\n",
    "\n",
    "# patient early stopping\n",
    "es = EarlyStopping(monitor='val_accuracy', mode='max', verbose=1, patience=10)\n",
    "\n",
    "# save best model\n",
    "mc = ModelCheckpoint('models/Model5/best_model.h5', monitor='val_accuracy', mode='max', verbose=1, save_best_only=True)\n",
    "\n",
    "# Instantiate model\n",
    "TL_model = generate_TL_model(input_shape=(128,128,3), num_classes=2)\n",
    "\n",
    "# Compile model\n",
    "TL_model.compile(optimizer='adam', loss='sparse_categorical_crossentropy', metrics=[\"accuracy\"])"
   ]
  },
  {
   "cell_type": "code",
   "execution_count": 45,
   "id": "7c13f4d0",
   "metadata": {},
   "outputs": [
    {
     "name": "stdout",
     "output_type": "stream",
     "text": [
      "Epoch 1/50\n",
      "WARNING:tensorflow:AutoGraph could not transform <function Model.make_train_function.<locals>.train_function at 0x2dd34bd30> and will run it as-is.\n",
      "Please report this to the TensorFlow team. When filing the bug, set the verbosity to 10 (on Linux, `export AUTOGRAPH_VERBOSITY=10`) and attach the full output.\n",
      "Cause: unsupported operand type(s) for -: 'NoneType' and 'int'\n",
      "To silence this warning, decorate the function with @tf.autograph.experimental.do_not_convert\n",
      "WARNING:tensorflow:AutoGraph could not transform <function Model.make_test_function.<locals>.test_function at 0x3226d8790> and will run it as-is.\n",
      "Please report this to the TensorFlow team. When filing the bug, set the verbosity to 10 (on Linux, `export AUTOGRAPH_VERBOSITY=10`) and attach the full output.\n",
      "Cause: unsupported operand type(s) for -: 'NoneType' and 'int'\n",
      "To silence this warning, decorate the function with @tf.autograph.experimental.do_not_convert\n",
      "\n",
      "Epoch 00001: val_accuracy improved from -inf to 0.94850, saving model to models/Model5/best_model.h5\n",
      "Epoch 2/50\n",
      "\n",
      "Epoch 00002: val_accuracy improved from 0.94850 to 0.95200, saving model to models/Model5/best_model.h5\n",
      "Epoch 3/50\n",
      "\n",
      "Epoch 00003: val_accuracy did not improve from 0.95200\n",
      "Epoch 4/50\n",
      "\n",
      "Epoch 00004: val_accuracy did not improve from 0.95200\n",
      "Epoch 5/50\n",
      "\n",
      "Epoch 00005: val_accuracy improved from 0.95200 to 0.96150, saving model to models/Model5/best_model.h5\n",
      "Epoch 6/50\n",
      "\n",
      "Epoch 00006: val_accuracy did not improve from 0.96150\n",
      "Epoch 7/50\n",
      "\n",
      "Epoch 00007: val_accuracy did not improve from 0.96150\n",
      "Epoch 8/50\n",
      "\n",
      "Epoch 00008: val_accuracy improved from 0.96150 to 0.96650, saving model to models/Model5/best_model.h5\n",
      "Epoch 9/50\n",
      "\n",
      "Epoch 00009: val_accuracy did not improve from 0.96650\n",
      "Epoch 10/50\n",
      "\n",
      "Epoch 00010: val_accuracy did not improve from 0.96650\n",
      "Epoch 11/50\n",
      "\n",
      "Epoch 00011: val_accuracy did not improve from 0.96650\n",
      "Epoch 12/50\n",
      "\n",
      "Epoch 00012: val_accuracy did not improve from 0.96650\n",
      "Epoch 13/50\n",
      "\n",
      "Epoch 00013: val_accuracy improved from 0.96650 to 0.97400, saving model to models/Model5/best_model.h5\n",
      "Epoch 14/50\n",
      "\n",
      "Epoch 00014: val_accuracy did not improve from 0.97400\n",
      "Epoch 15/50\n",
      "\n",
      "Epoch 00015: val_accuracy did not improve from 0.97400\n",
      "Epoch 16/50\n",
      "\n",
      "Epoch 00016: val_accuracy did not improve from 0.97400\n",
      "Epoch 17/50\n",
      "\n",
      "Epoch 00017: val_accuracy did not improve from 0.97400\n",
      "Epoch 18/50\n",
      "\n",
      "Epoch 00018: val_accuracy did not improve from 0.97400\n",
      "Epoch 19/50\n",
      "\n",
      "Epoch 00019: val_accuracy did not improve from 0.97400\n",
      "Epoch 20/50\n",
      "\n",
      "Epoch 00020: val_accuracy did not improve from 0.97400\n",
      "Epoch 21/50\n",
      "\n",
      "Epoch 00021: val_accuracy improved from 0.97400 to 0.97500, saving model to models/Model5/best_model.h5\n",
      "Epoch 22/50\n",
      "\n",
      "Epoch 00022: val_accuracy did not improve from 0.97500\n",
      "Epoch 23/50\n",
      "\n",
      "Epoch 00023: val_accuracy did not improve from 0.97500\n",
      "Epoch 24/50\n",
      "\n",
      "Epoch 00024: val_accuracy did not improve from 0.97500\n",
      "Epoch 25/50\n",
      "\n",
      "Epoch 00025: val_accuracy did not improve from 0.97500\n",
      "Epoch 26/50\n",
      "\n",
      "Epoch 00026: val_accuracy did not improve from 0.97500\n",
      "Epoch 27/50\n",
      "\n",
      "Epoch 00027: val_accuracy did not improve from 0.97500\n",
      "Epoch 28/50\n",
      "\n",
      "Epoch 00028: val_accuracy did not improve from 0.97500\n",
      "Epoch 29/50\n",
      "\n",
      "Epoch 00029: val_accuracy did not improve from 0.97500\n",
      "Epoch 30/50\n",
      "\n",
      "Epoch 00030: val_accuracy did not improve from 0.97500\n",
      "Epoch 31/50\n",
      "\n",
      "Epoch 00031: val_accuracy did not improve from 0.97500\n",
      "Epoch 00031: early stopping\n"
     ]
    }
   ],
   "source": [
    "# train model\n",
    "results_TL = TL_model.fit(\n",
    "    train_generator,\n",
    "    steps_per_epoch=100, # num_samples//batch_size\n",
    "    epochs=50,\n",
    "    callbacks= [es, mc],\n",
    "    validation_data=validation_generator,\n",
    "    verbose=4,\n",
    "    validation_steps=20) # num_samples//batch_size"
   ]
  },
  {
   "cell_type": "code",
   "execution_count": 15,
   "id": "794e0137",
   "metadata": {},
   "outputs": [
    {
     "data": {
      "image/png": "[encoded data removed]",
      "text/plain": [
       "<Figure size 432x288 with 1 Axes>"
      ]
     },
     "metadata": {
      "needs_background": "light"
     },
     "output_type": "display_data"
    },
    {
     "data": {
      "image/png": "[encoded data removed]",
      "text/plain": [
       "<Figure size 432x288 with 1 Axes>"
      ]
     },
     "metadata": {
      "needs_background": "light"
     },
     "output_type": "display_data"
    }
   ],
   "source": [
    "plot_nn_training(TL_model_fit)"
   ]
  },
  {
   "cell_type": "code",
   "execution_count": null,
   "id": "cc8fcb02",
   "metadata": {},
   "outputs": [],
   "source": []
  },
  {
   "cell_type": "code",
   "execution_count": null,
   "id": "4c670db9",
   "metadata": {},
   "outputs": [],
   "source": []
  },
  {
   "cell_type": "markdown",
   "id": "55b9927e",
   "metadata": {},
   "source": [
    "## Test performance"
   ]
  },
  {
   "cell_type": "code",
   "execution_count": null,
   "id": "7d44c46e",
   "metadata": {},
   "outputs": [],
   "source": []
  },
  {
   "cell_type": "code",
   "execution_count": null,
   "id": "98e8b88e",
   "metadata": {},
   "outputs": [],
   "source": []
  },
  {
   "cell_type": "code",
   "execution_count": 58,
   "id": "e9824169",
   "metadata": {},
   "outputs": [
    {
     "name": "stdout",
     "output_type": "stream",
     "text": [
      "Found 10000 images belonging to 2 classes.\n",
      "Found 2000 images belonging to 2 classes.\n"
     ]
    }
   ],
   "source": [
    "image_size = (128, 128)\n",
    "batch_size = 200\n",
    "\n",
    "# TRAINING\n",
    "# specify training image transformations \n",
    "train_datagen = ImageDataGenerator(\n",
    "        rescale=1./255,\n",
    "        rotation_range=0.1,\n",
    "        zoom_range=0.1,\n",
    "        horizontal_flip=True)\n",
    "\n",
    "# keras generator for training data\n",
    "train_generator = train_datagen.flow_from_directory(\n",
    "        train_path,\n",
    "        target_size=image_size,\n",
    "        batch_size=batch_size,\n",
    "        class_mode='binary')\n",
    "\n",
    "\n",
    "# VALIDATION\n",
    "# specify validation image transformations (rescale only)\n",
    "val_datagen = ImageDataGenerator(rescale=1./255)\n",
    "\n",
    "# keras generator for validation data\n",
    "validation_generator = val_datagen.flow_from_directory(\n",
    "        val_path,\n",
    "        target_size=image_size,\n",
    "        batch_size=batch_size,\n",
    "        class_mode='binary')"
   ]
  },
  {
   "cell_type": "code",
   "execution_count": 59,
   "id": "2c77f91f",
   "metadata": {},
   "outputs": [],
   "source": [
    "def generate_model6(input_shape, num_classes):\n",
    "    \n",
    "    '''CNN model architecture with max pooling + dropout layers'''\n",
    "    \n",
    "    inputs = Input(shape=input_shape)\n",
    "    \n",
    "    # convolution (with max pooling)\n",
    "    x = Conv2D(32, kernel_size=10, strides=2, padding=\"same\")(inputs)\n",
    "    x = MaxPooling2D(pool_size=(2, 2), strides=2, padding='valid', data_format=None)(x) \n",
    "    x = BatchNormalization()(x) # why?\n",
    "    x = Activation(\"relu\")(x)\n",
    "\n",
    "    x = Conv2D(64, kernel_size=3, strides=2, padding=\"same\")(x)\n",
    "    x = MaxPooling2D(pool_size=(2, 2), strides=2, padding='valid', data_format=None)(x)\n",
    "    x = BatchNormalization()(x)\n",
    "    x = Activation(\"relu\")(x)\n",
    "    \n",
    "    x = Conv2D(64, kernel_size=3, strides=2, padding=\"same\")(x)\n",
    "    x = MaxPooling2D(pool_size=(2, 2), strides=2, padding='valid', data_format=None)(x)\n",
    "    x = BatchNormalization()(x)\n",
    "    x = Activation(\"relu\")(x)\n",
    "    \n",
    "    #flatten\n",
    "    x = Flatten()(x)\n",
    "    \n",
    "    #dense layers (with dropout to avoid overfitting)\n",
    "    x = Dense(1024, activation='relu')(x)\n",
    "    x = Dropout(0.3)(x)\n",
    "    x = Dense(512, activation='relu')(x)\n",
    "    x = Dropout(0.2)(x)\n",
    "    x = Dense(256, activation='relu')(x)\n",
    "    x = Dropout(0.1)(x)\n",
    "    \n",
    "    # output layer\n",
    "    output = Dense(2, activation='softmax')(x)\n",
    "    \n",
    "    mod = Model(inputs=inputs, outputs=output)\n",
    "    \n",
    "    return mod"
   ]
  },
  {
   "cell_type": "code",
   "execution_count": 60,
   "id": "78ec5d21",
   "metadata": {},
   "outputs": [],
   "source": [
    "epochs = 100\n",
    "\n",
    "# patient early stopping\n",
    "es = EarlyStopping(monitor='val_accuracy', mode='max', verbose=1, patience=10)\n",
    "\n",
    "# save best model\n",
    "mc = ModelCheckpoint('models/Model4/best_model.h5', monitor='val_accuracy', mode='max', verbose=1, save_best_only=True)\n",
    "\n",
    "# Instantiate model\n",
    "model6 = generate_model6(input_shape=(128,128,3), num_classes=2)\n",
    "\n",
    "# Compile model\n",
    "model6.compile(optimizer='adam', loss='sparse_categorical_crossentropy', metrics=[\"accuracy\"])"
   ]
  },
  {
   "cell_type": "code",
   "execution_count": 61,
   "id": "82c217e7",
   "metadata": {},
   "outputs": [
    {
     "data": {
      "text/plain": [
       "4.0"
      ]
     },
     "execution_count": 61,
     "metadata": {},
     "output_type": "execute_result"
    }
   ],
   "source": [
    "2000/500"
   ]
  },
  {
   "cell_type": "code",
   "execution_count": null,
   "id": "11cb9ef2",
   "metadata": {},
   "outputs": [
    {
     "name": "stdout",
     "output_type": "stream",
     "text": [
      "Epoch 1/50\n",
      "WARNING:tensorflow:AutoGraph could not transform <function Model.make_train_function.<locals>.train_function at 0x2965c73a0> and will run it as-is.\n",
      "Please report this to the TensorFlow team. When filing the bug, set the verbosity to 10 (on Linux, `export AUTOGRAPH_VERBOSITY=10`) and attach the full output.\n",
      "Cause: unsupported operand type(s) for -: 'NoneType' and 'int'\n",
      "To silence this warning, decorate the function with @tf.autograph.experimental.do_not_convert\n",
      "50/50 [==============================] - ETA: 0s - loss: 0.5070 - accuracy: 0.7464WARNING:tensorflow:AutoGraph could not transform <function Model.make_test_function.<locals>.test_function at 0x2a836a5e0> and will run it as-is.\n",
      "Please report this to the TensorFlow team. When filing the bug, set the verbosity to 10 (on Linux, `export AUTOGRAPH_VERBOSITY=10`) and attach the full output.\n",
      "Cause: unsupported operand type(s) for -: 'NoneType' and 'int'\n",
      "To silence this warning, decorate the function with @tf.autograph.experimental.do_not_convert\n",
      "50/50 [==============================] - 37s 718ms/step - loss: 0.5039 - accuracy: 0.7483 - val_loss: 0.7348 - val_accuracy: 0.5015\n",
      "\n",
      "Epoch 00001: val_accuracy improved from -inf to 0.50150, saving model to models/Model4/best_model.h5\n",
      "Epoch 2/50\n",
      "50/50 [==============================] - 36s 707ms/step - loss: 0.1858 - accuracy: 0.9262 - val_loss: 1.5937 - val_accuracy: 0.5000\n",
      "\n",
      "Epoch 00002: val_accuracy did not improve from 0.50150\n",
      "Epoch 3/50\n",
      "50/50 [==============================] - 36s 715ms/step - loss: 0.1589 - accuracy: 0.9357 - val_loss: 3.4802 - val_accuracy: 0.5000\n",
      "\n",
      "Epoch 00003: val_accuracy did not improve from 0.50150\n",
      "Epoch 4/50\n",
      "50/50 [==============================] - 36s 710ms/step - loss: 0.1473 - accuracy: 0.9381 - val_loss: 5.8719 - val_accuracy: 0.5000\n",
      "\n",
      "Epoch 00004: val_accuracy did not improve from 0.50150\n",
      "Epoch 5/50\n",
      "50/50 [==============================] - 36s 711ms/step - loss: 0.1173 - accuracy: 0.9533 - val_loss: 1.9816 - val_accuracy: 0.5070\n",
      "\n",
      "Epoch 00005: val_accuracy improved from 0.50150 to 0.50700, saving model to models/Model4/best_model.h5\n",
      "Epoch 6/50\n",
      "50/50 [==============================] - 36s 720ms/step - loss: 0.1029 - accuracy: 0.9579 - val_loss: 3.4499 - val_accuracy: 0.5060\n",
      "\n",
      "Epoch 00006: val_accuracy did not improve from 0.50700\n",
      "Epoch 7/50\n",
      "50/50 [==============================] - 36s 716ms/step - loss: 0.1055 - accuracy: 0.9581 - val_loss: 6.2892 - val_accuracy: 0.5030\n",
      "\n",
      "Epoch 00007: val_accuracy did not improve from 0.50700\n",
      "Epoch 8/50\n",
      "50/50 [==============================] - 36s 715ms/step - loss: 0.0841 - accuracy: 0.9670 - val_loss: 1.4131 - val_accuracy: 0.5215\n",
      "\n",
      "Epoch 00008: val_accuracy improved from 0.50700 to 0.52150, saving model to models/Model4/best_model.h5\n",
      "Epoch 9/50\n",
      "50/50 [==============================] - 36s 711ms/step - loss: 0.0795 - accuracy: 0.9686 - val_loss: 0.4894 - val_accuracy: 0.8400\n",
      "\n",
      "Epoch 00009: val_accuracy improved from 0.52150 to 0.84000, saving model to models/Model4/best_model.h5\n",
      "Epoch 10/50\n",
      "50/50 [==============================] - 36s 708ms/step - loss: 0.0714 - accuracy: 0.9727 - val_loss: 2.2305 - val_accuracy: 0.5260\n",
      "\n",
      "Epoch 00010: val_accuracy did not improve from 0.84000\n",
      "Epoch 11/50\n",
      "50/50 [==============================] - 36s 722ms/step - loss: 0.0688 - accuracy: 0.9751 - val_loss: 0.7361 - val_accuracy: 0.6755\n",
      "\n",
      "Epoch 00011: val_accuracy did not improve from 0.84000\n",
      "Epoch 12/50\n",
      "50/50 [==============================] - 37s 730ms/step - loss: 0.0632 - accuracy: 0.9751 - val_loss: 0.2416 - val_accuracy: 0.9200\n",
      "\n",
      "Epoch 00012: val_accuracy improved from 0.84000 to 0.92000, saving model to models/Model4/best_model.h5\n",
      "Epoch 13/50\n",
      "50/50 [==============================] - 36s 716ms/step - loss: 0.0578 - accuracy: 0.9769 - val_loss: 0.5323 - val_accuracy: 0.7950\n",
      "\n",
      "Epoch 00013: val_accuracy did not improve from 0.92000\n",
      "Epoch 14/50\n",
      "50/50 [==============================] - 36s 715ms/step - loss: 0.0526 - accuracy: 0.9810 - val_loss: 0.7584 - val_accuracy: 0.7715\n",
      "\n",
      "Epoch 00014: val_accuracy did not improve from 0.92000\n",
      "Epoch 15/50\n",
      "50/50 [==============================] - 36s 709ms/step - loss: 0.0389 - accuracy: 0.9861 - val_loss: 1.0262 - val_accuracy: 0.6530\n",
      "\n",
      "Epoch 00015: val_accuracy did not improve from 0.92000\n",
      "Epoch 16/50\n",
      "50/50 [==============================] - 36s 710ms/step - loss: 0.0463 - accuracy: 0.9841 - val_loss: 2.5563 - val_accuracy: 0.5440\n",
      "\n",
      "Epoch 00016: val_accuracy did not improve from 0.92000\n",
      "Epoch 17/50\n",
      "50/50 [==============================] - 36s 711ms/step - loss: 0.0417 - accuracy: 0.9830 - val_loss: 1.6273 - val_accuracy: 0.5845\n",
      "\n",
      "Epoch 00017: val_accuracy did not improve from 0.92000\n",
      "Epoch 18/50\n",
      "50/50 [==============================] - 36s 710ms/step - loss: 0.0430 - accuracy: 0.9853 - val_loss: 1.0840 - val_accuracy: 0.7345\n",
      "\n",
      "Epoch 00018: val_accuracy did not improve from 0.92000\n",
      "Epoch 19/50\n",
      "50/50 [==============================] - 36s 711ms/step - loss: 0.0414 - accuracy: 0.9835 - val_loss: 0.7366 - val_accuracy: 0.7290\n",
      "\n",
      "Epoch 00019: val_accuracy did not improve from 0.92000\n",
      "Epoch 20/50\n",
      "50/50 [==============================] - 36s 710ms/step - loss: 0.0346 - accuracy: 0.9878 - val_loss: 2.4653 - val_accuracy: 0.6735\n",
      "\n",
      "Epoch 00020: val_accuracy did not improve from 0.92000\n",
      "Epoch 21/50\n",
      "49/50 [============================>.] - ETA: 0s - loss: 0.0467 - accuracy: 0.9841"
     ]
    }
   ],
   "source": [
    "# train model\n",
    "results6 = model6.fit(\n",
    "    train_generator,\n",
    "    steps_per_epoch=10000/batch_size, # num_samples//batch_size\n",
    "    epochs=50,\n",
    "    callbacks= [es, mc],\n",
    "    validation_data=validation_generator,\n",
    "    #verbose=4,\n",
    "    validation_steps=2000/batch_size) # num_samples//batch_size"
   ]
  },
  {
   "cell_type": "code",
   "execution_count": null,
   "id": "eb3606c4",
   "metadata": {},
   "outputs": [],
   "source": [
    "plot_nn_training(results4)"
   ]
  }
 ],
 "metadata": {
  "kernelspec": {
   "display_name": "tf_env_2",
   "language": "python",
   "name": "tf_env_2"
  },
  "language_info": {
   "codemirror_mode": {
    "name": "ipython",
    "version": 3
   },
   "file_extension": ".py",
   "mimetype": "text/x-python",
   "name": "python",
   "nbconvert_exporter": "python",
   "pygments_lexer": "ipython3",
   "version": "3.8.12"
  }
 },
 "nbformat": 4,
 "nbformat_minor": 5
}
